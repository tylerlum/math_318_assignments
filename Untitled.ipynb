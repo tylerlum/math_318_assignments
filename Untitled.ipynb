{
 "cells": [
  {
   "cell_type": "code",
   "execution_count": 2,
   "metadata": {},
   "outputs": [],
   "source": [
    "import numpy as np"
   ]
  },
  {
   "cell_type": "code",
   "execution_count": 11,
   "metadata": {},
   "outputs": [],
   "source": [
    "N = 100000000\n",
    "X = np.random.normal(size=(N))\n",
    "Y = np.random.normal(size=(N))"
   ]
  },
  {
   "cell_type": "code",
   "execution_count": 12,
   "metadata": {},
   "outputs": [],
   "source": [
    "D = np.abs(X - Y)"
   ]
  },
  {
   "cell_type": "code",
   "execution_count": 13,
   "metadata": {},
   "outputs": [
    {
     "name": "stdout",
     "output_type": "stream",
     "text": [
      "num_close/N = 0.05637606\n"
     ]
    }
   ],
   "source": [
    "num_close = np.sum(np.where(D < 0.1, 1, 0))\n",
    "print(f\"num_close/N = {num_close/N}\")"
   ]
  },
  {
   "cell_type": "code",
   "execution_count": 37,
   "metadata": {},
   "outputs": [
    {
     "data": {
      "text/plain": [
       "0.739356"
      ]
     },
     "execution_count": 37,
     "metadata": {},
     "output_type": "execute_result"
    }
   ],
   "source": []
  },
  {
   "cell_type": "code",
   "execution_count": 9,
   "metadata": {},
   "outputs": [
    {
     "name": "stdout",
     "output_type": "stream",
     "text": [
      "x = 0: 0.0\n",
      "x = 1: 1.2484581497797358\n",
      "x = 2: 2.440174672489083\n",
      "x = 3: 3.7207615593834995\n",
      "x = 4: 5.049638989169675\n",
      "x = 5: 6.248424842484249\n",
      "x = 6: 7.516473731077471\n",
      "x = 7: 8.77848678213309\n",
      "x = 8: 10.0\n"
     ]
    }
   ],
   "source": [
    "X = [x for x in range(0, 9)]\n",
    "N = 10000\n",
    "simulations = {x: [] for x in X}\n",
    "for _ in range(N):\n",
    "    x = np.random.choice(X)\n",
    "    y = np.random.binomial(10, x/8)\n",
    "    simulations[x].append(y)\n",
    "\n",
    "for x in X:\n",
    "    print(f\"x = {x}: {sum(simulations[x])/len(simulations[x])}\")"
   ]
  },
  {
   "cell_type": "code",
   "execution_count": null,
   "metadata": {},
   "outputs": [],
   "source": []
  }
 ],
 "metadata": {
  "kernelspec": {
   "display_name": "Python 3",
   "language": "python",
   "name": "python3"
  },
  "language_info": {
   "codemirror_mode": {
    "name": "ipython",
    "version": 3
   },
   "file_extension": ".py",
   "mimetype": "text/x-python",
   "name": "python",
   "nbconvert_exporter": "python",
   "pygments_lexer": "ipython3",
   "version": "3.6.9"
  }
 },
 "nbformat": 4,
 "nbformat_minor": 4
}
