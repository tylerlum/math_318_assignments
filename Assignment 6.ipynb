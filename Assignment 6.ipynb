{
 "cells": [
  {
   "cell_type": "code",
   "execution_count": 1,
   "metadata": {},
   "outputs": [],
   "source": [
    "import numpy as np"
   ]
  },
  {
   "cell_type": "markdown",
   "metadata": {},
   "source": [
    "# 5.a"
   ]
  },
  {
   "cell_type": "code",
   "execution_count": 2,
   "metadata": {},
   "outputs": [],
   "source": [
    "def f(x):\n",
    "    return (1/np.sqrt(2*np.pi)) * (np.exp(-np.square(x)/2))"
   ]
  },
  {
   "cell_type": "code",
   "execution_count": 3,
   "metadata": {},
   "outputs": [],
   "source": [
    "# Generate random numbers\n",
    "randoms_40000_1 = np.random.uniform(low=0, high=1, size=(40000))\n",
    "randoms_40000_2 = np.random.uniform(low=0, high=1, size=(40000))\n",
    "randoms_40000_3 = np.random.uniform(low=0, high=1, size=(40000))"
   ]
  },
  {
   "cell_type": "code",
   "execution_count": 4,
   "metadata": {},
   "outputs": [],
   "source": [
    "# Calculate f\n",
    "f_randoms_40000_1 = f(randoms_40000_1)\n",
    "f_randoms_40000_2 = f(randoms_40000_2)\n",
    "f_randoms_40000_3 = f(randoms_40000_3)"
   ]
  },
  {
   "cell_type": "code",
   "execution_count": 5,
   "metadata": {},
   "outputs": [],
   "source": [
    "# Calculate means\n",
    "I_40000_1 = np.mean(f_randoms_40000_1)\n",
    "I_40000_2 = np.mean(f_randoms_40000_2)\n",
    "I_40000_3 = np.mean(f_randoms_40000_3)"
   ]
  },
  {
   "cell_type": "code",
   "execution_count": 6,
   "metadata": {},
   "outputs": [
    {
     "name": "stdout",
     "output_type": "stream",
     "text": [
      "I_40000_1 = 0.3410851456229389\n",
      "I_40000_2 = 0.34130154668424395\n",
      "I_40000_3 = 0.34155179379915684\n"
     ]
    }
   ],
   "source": [
    "# Print values\n",
    "print(f\"I_40000_1 = {I_40000_1}\")\n",
    "print(f\"I_40000_2 = {I_40000_2}\")\n",
    "print(f\"I_40000_3 = {I_40000_3}\")"
   ]
  },
  {
   "cell_type": "markdown",
   "metadata": {},
   "source": [
    "# 5.c"
   ]
  },
  {
   "cell_type": "code",
   "execution_count": 7,
   "metadata": {},
   "outputs": [],
   "source": [
    "# Generate random points\n",
    "x1 = np.random.uniform(low=0, high=1, size=(40000))\n",
    "y1 = np.random.uniform(low=0, high=1, size=(40000))\n",
    "\n",
    "x2 = np.random.uniform(low=0, high=1, size=(40000))\n",
    "y2 = np.random.uniform(low=0, high=1, size=(40000))\n",
    "\n",
    "x3 = np.random.uniform(low=0, high=1, size=(40000))\n",
    "y3 = np.random.uniform(low=0, high=1, size=(40000))"
   ]
  },
  {
   "cell_type": "code",
   "execution_count": 8,
   "metadata": {},
   "outputs": [],
   "source": [
    "# Calculate proportion with y <= f(x)\n",
    "num_y_less_than_fx1 = np.where(y1 <= f(x1))[0].size\n",
    "num_y_less_than_fx2 = np.where(y1 <= f(x2))[0].size\n",
    "num_y_less_than_fx3 = np.where(y1 <= f(x3))[0].size\n",
    "\n",
    "proportion_y_less_than_fx1 = num_y_less_than_fx1 / x1.size\n",
    "proportion_y_less_than_fx2 = num_y_less_than_fx2 / x2.size\n",
    "proportion_y_less_than_fx3 = num_y_less_than_fx3 / x3.size"
   ]
  },
  {
   "cell_type": "code",
   "execution_count": 9,
   "metadata": {},
   "outputs": [
    {
     "name": "stdout",
     "output_type": "stream",
     "text": [
      "proportion_y_less_than_fx1 = 0.34635\n",
      "proportion_y_less_than_fx2 = 0.347375\n",
      "proportion_y_less_than_fx3 = 0.3459\n"
     ]
    }
   ],
   "source": [
    "# Print values\n",
    "print(f\"proportion_y_less_than_fx1 = {proportion_y_less_than_fx1}\")\n",
    "print(f\"proportion_y_less_than_fx2 = {proportion_y_less_than_fx2}\")\n",
    "print(f\"proportion_y_less_than_fx3 = {proportion_y_less_than_fx3}\")"
   ]
  }
 ],
 "metadata": {
  "kernelspec": {
   "display_name": "Python 3",
   "language": "python",
   "name": "python3"
  },
  "language_info": {
   "codemirror_mode": {
    "name": "ipython",
    "version": 3
   },
   "file_extension": ".py",
   "mimetype": "text/x-python",
   "name": "python",
   "nbconvert_exporter": "python",
   "pygments_lexer": "ipython3",
   "version": "3.6.9"
  }
 },
 "nbformat": 4,
 "nbformat_minor": 4
}
