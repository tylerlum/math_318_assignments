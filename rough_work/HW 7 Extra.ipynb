{
 "cells": [
  {
   "cell_type": "code",
   "execution_count": 22,
   "metadata": {},
   "outputs": [],
   "source": [
    "import numpy as np"
   ]
  },
  {
   "cell_type": "markdown",
   "metadata": {},
   "source": [
    "## HW Rain Tests"
   ]
  },
  {
   "cell_type": "code",
   "execution_count": 23,
   "metadata": {},
   "outputs": [],
   "source": [
    "rain = [True, False]"
   ]
  },
  {
   "cell_type": "code",
   "execution_count": 24,
   "metadata": {},
   "outputs": [],
   "source": [
    "def did_today_rain(rained_yesterday, rained_day_before):\n",
    "    if rained_yesterday and rained_day_before:\n",
    "        prob_rain = 0.7\n",
    "    elif rained_yesterday and not rained_day_before:\n",
    "        prob_rain = 0.5\n",
    "    elif not rained_yesterday and rained_day_before:\n",
    "        prob_rain = 0.4\n",
    "    else:        \n",
    "        prob_rain = 0.1\n",
    "    rained_today = np.random.uniform(low=0, high=1) < prob_rain\n",
    "    return rained_today"
   ]
  },
  {
   "cell_type": "code",
   "execution_count": 44,
   "metadata": {},
   "outputs": [],
   "source": [
    "history = []\n",
    "for _ in range(2):\n",
    "    history.append(np.random.choice(rain))"
   ]
  },
  {
   "cell_type": "code",
   "execution_count": 45,
   "metadata": {},
   "outputs": [],
   "source": [
    "N = 1000000"
   ]
  },
  {
   "cell_type": "code",
   "execution_count": 46,
   "metadata": {},
   "outputs": [],
   "source": [
    "for _ in range(N):\n",
    "    rained_yesterday, rained_day_before = history[-1], history[-2]\n",
    "    rained_today = did_today_rain(rained_yesterday, rained_day_before)\n",
    "    history.append(rained_today)"
   ]
  },
  {
   "cell_type": "code",
   "execution_count": 47,
   "metadata": {},
   "outputs": [
    {
     "name": "stdout",
     "output_type": "stream",
     "text": [
      "Fraction of days rained = 0.27611544776910446\n"
     ]
    }
   ],
   "source": [
    "print(f\"Fraction of days rained = {sum(history)/len(history)}\")"
   ]
  },
  {
   "cell_type": "markdown",
   "metadata": {},
   "source": [
    "## Test Out Matrix Form"
   ]
  },
  {
   "cell_type": "code",
   "execution_count": 48,
   "metadata": {},
   "outputs": [],
   "source": [
    "P = np.array([[0.9, 0.1,   0,   0],\n",
    "              [  0,   0, 0.5, 0.5],\n",
    "              [0.6, 0.4,   0,   0],\n",
    "              [  0,   0, 0.3, 0.7]])"
   ]
  },
  {
   "cell_type": "code",
   "execution_count": 49,
   "metadata": {},
   "outputs": [],
   "source": [
    "v = np.array([0.25, 0.25, 0.25, 0.25])"
   ]
  },
  {
   "cell_type": "code",
   "execution_count": 54,
   "metadata": {},
   "outputs": [],
   "source": [
    "v = np.array([0, 1, 0, 0])"
   ]
  },
  {
   "cell_type": "code",
   "execution_count": 67,
   "metadata": {},
   "outputs": [],
   "source": [
    "pi = v@np.linalg.matrix_power(P, 1000000)"
   ]
  },
  {
   "cell_type": "code",
   "execution_count": 70,
   "metadata": {},
   "outputs": [
    {
     "data": {
      "text/plain": [
       "array([0.62068966, 0.10344828, 0.10344828, 0.17241379])"
      ]
     },
     "execution_count": 70,
     "metadata": {},
     "output_type": "execute_result"
    }
   ],
   "source": [
    "pi"
   ]
  },
  {
   "cell_type": "code",
   "execution_count": 71,
   "metadata": {},
   "outputs": [
    {
     "data": {
      "text/plain": [
       "array([0.62068966, 0.10344828, 0.10344828, 0.17241379])"
      ]
     },
     "execution_count": 71,
     "metadata": {},
     "output_type": "execute_result"
    }
   ],
   "source": [
    "pi@P"
   ]
  },
  {
   "cell_type": "code",
   "execution_count": null,
   "metadata": {},
   "outputs": [],
   "source": []
  },
  {
   "cell_type": "code",
   "execution_count": 82,
   "metadata": {},
   "outputs": [],
   "source": [
    "w, v = np.linalg.eig(P.T)"
   ]
  },
  {
   "cell_type": "code",
   "execution_count": 83,
   "metadata": {},
   "outputs": [
    {
     "data": {
      "text/plain": [
       "array([ 1.        ,  0.72036798, -0.35499389,  0.23462591])"
      ]
     },
     "execution_count": 83,
     "metadata": {},
     "output_type": "execute_result"
    }
   ],
   "source": [
    "w"
   ]
  },
  {
   "cell_type": "code",
   "execution_count": 84,
   "metadata": {},
   "outputs": [
    {
     "data": {
      "text/plain": [
       "array([[-0.93959235,  0.80489068, -0.30644754,  0.38209111],\n",
       "       [-0.15659873, -0.02207255, -0.63592204, -0.55952858],\n",
       "       [-0.15659873, -0.24097357,  0.64098298, -0.42372254],\n",
       "       [-0.26099788, -0.54184456,  0.3013866 ,  0.60116001]])"
      ]
     },
     "execution_count": 84,
     "metadata": {},
     "output_type": "execute_result"
    }
   ],
   "source": [
    "v"
   ]
  },
  {
   "cell_type": "code",
   "execution_count": 88,
   "metadata": {},
   "outputs": [
    {
     "data": {
      "text/plain": [
       "array([0.62068966, 0.10344828, 0.10344828, 0.17241379])"
      ]
     },
     "execution_count": 88,
     "metadata": {},
     "output_type": "execute_result"
    }
   ],
   "source": [
    "v[:, 0] / sum(v[:, 0])"
   ]
  },
  {
   "cell_type": "code",
   "execution_count": 89,
   "metadata": {},
   "outputs": [],
   "source": [
    "P = np.array([ [1/2, 1/2,   0],\n",
    "               [1/3,   0, 2/3],\n",
    "               [  0, 1/3, 2/3]])"
   ]
  },
  {
   "cell_type": "code",
   "execution_count": 90,
   "metadata": {},
   "outputs": [],
   "source": [
    "w, v = np.linalg.eig(P.T)"
   ]
  },
  {
   "cell_type": "code",
   "execution_count": 91,
   "metadata": {},
   "outputs": [
    {
     "data": {
      "text/plain": [
       "array([-0.39538022,  0.56204689,  1.        ])"
      ]
     },
     "execution_count": 91,
     "metadata": {},
     "output_type": "execute_result"
    }
   ],
   "source": [
    "w"
   ]
  },
  {
   "cell_type": "code",
   "execution_count": 92,
   "metadata": {},
   "outputs": [
    {
     "data": {
      "text/plain": [
       "array([[ 0.30071384,  0.63997749,  0.28571429],\n",
       "       [-0.80775968,  0.11912583,  0.42857143],\n",
       "       [ 0.50704584, -0.75910332,  0.85714286]])"
      ]
     },
     "execution_count": 92,
     "metadata": {},
     "output_type": "execute_result"
    }
   ],
   "source": [
    "v"
   ]
  },
  {
   "cell_type": "code",
   "execution_count": 93,
   "metadata": {},
   "outputs": [
    {
     "data": {
      "text/plain": [
       "array([0.18181818, 0.27272727, 0.54545455])"
      ]
     },
     "execution_count": 93,
     "metadata": {},
     "output_type": "execute_result"
    }
   ],
   "source": [
    "v[:, 2] / sum(v[:, 2])"
   ]
  },
  {
   "cell_type": "code",
   "execution_count": 95,
   "metadata": {},
   "outputs": [
    {
     "data": {
      "text/plain": [
       "0.18181818181818182"
      ]
     },
     "execution_count": 95,
     "metadata": {},
     "output_type": "execute_result"
    }
   ],
   "source": [
    "2/11"
   ]
  },
  {
   "cell_type": "code",
   "execution_count": 97,
   "metadata": {},
   "outputs": [
    {
     "data": {
      "text/plain": [
       "0.18181818181818182"
      ]
     },
     "execution_count": 97,
     "metadata": {},
     "output_type": "execute_result"
    }
   ],
   "source": [
    "2/3 / (2/3 + 1 + 2)"
   ]
  },
  {
   "cell_type": "code",
   "execution_count": 229,
   "metadata": {},
   "outputs": [],
   "source": [
    "white_balls = [True for _ in range(8)]\n",
    "p = 0.5\n",
    "N = 1000000\n",
    "history = []\n",
    "history.append(sum(white_balls))"
   ]
  },
  {
   "cell_type": "code",
   "execution_count": 230,
   "metadata": {},
   "outputs": [],
   "source": [
    "for _ in range(N):\n",
    "    index = np.random.randint(low=0, high=len(white_balls))\n",
    "    if np.random.uniform(low=0, high=1) < p:\n",
    "        white_balls[index] = True\n",
    "    else:\n",
    "        white_balls[index] = False\n",
    "    history.append(sum(white_balls))"
   ]
  },
  {
   "cell_type": "code",
   "execution_count": 231,
   "metadata": {},
   "outputs": [],
   "source": [
    "import matplotlib.pyplot as plt"
   ]
  },
  {
   "cell_type": "code",
   "execution_count": 232,
   "metadata": {},
   "outputs": [
    {
     "data": {
      "text/plain": [
       "[<matplotlib.lines.Line2D at 0x7f16735f61d0>]"
      ]
     },
     "execution_count": 232,
     "metadata": {},
     "output_type": "execute_result"
    },
    {
     "data": {
      "image/png": "[encoded data removed]",
      "text/plain": [
       "<Figure size 432x288 with 1 Axes>"
      ]
     },
     "metadata": {
      "needs_background": "light"
     },
     "output_type": "display_data"
    }
   ],
   "source": [
    "plt.plot(history)"
   ]
  },
  {
   "cell_type": "code",
   "execution_count": 233,
   "metadata": {},
   "outputs": [
    {
     "name": "stdout",
     "output_type": "stream",
     "text": [
      "0 - 0.003742\n",
      "1 - 0.031129\n",
      "2 - 0.108442\n",
      "3 - 0.217966\n",
      "4 - 0.273571\n",
      "5 - 0.219814\n",
      "6 - 0.109791\n",
      "7 - 0.031584\n",
      "8 - 0.003962\n"
     ]
    }
   ],
   "source": [
    "m = {}\n",
    "for x in history:\n",
    "    if x not in m:\n",
    "        m[x] = 1\n",
    "    else:\n",
    "        m[x] += 1\n",
    "\n",
    "xs = [x for x in m]\n",
    "xs.sort()\n",
    "for x in xs:\n",
    "    print(f\"{x} - {m[x]/N}\")"
   ]
  },
  {
   "cell_type": "code",
   "execution_count": 234,
   "metadata": {},
   "outputs": [],
   "source": [
    "P = []\n",
    "P.append([1-p, p, 0, 0, 0, 0, 0, 0])\n",
    "for i in range(1, 7):\n",
    "    row = []\n",
    "    for j in range(i-1):\n",
    "        row += [0]\n",
    "    row.append(i/8 * (1-p))\n",
    "    row.append((8-i)/8 + p*(2*i-8)/8)\n",
    "    row.append((8-i)/8*p)\n",
    "    for j in range(i+2, 8):\n",
    "        row += [0]\n",
    "    P.append(row)\n",
    "P.append([0,0,0,0,0,0, 1-p, p])"
   ]
  },
  {
   "cell_type": "code",
   "execution_count": 235,
   "metadata": {},
   "outputs": [],
   "source": [
    "P = np.array(P)"
   ]
  },
  {
   "cell_type": "code",
   "execution_count": 236,
   "metadata": {},
   "outputs": [
    {
     "data": {
      "text/plain": [
       "array([[0.5   , 0.5   , 0.    , 0.    , 0.    , 0.    , 0.    , 0.    ],\n",
       "       [0.0625, 0.5   , 0.4375, 0.    , 0.    , 0.    , 0.    , 0.    ],\n",
       "       [0.    , 0.125 , 0.5   , 0.375 , 0.    , 0.    , 0.    , 0.    ],\n",
       "       [0.    , 0.    , 0.1875, 0.5   , 0.3125, 0.    , 0.    , 0.    ],\n",
       "       [0.    , 0.    , 0.    , 0.25  , 0.5   , 0.25  , 0.    , 0.    ],\n",
       "       [0.    , 0.    , 0.    , 0.    , 0.3125, 0.5   , 0.1875, 0.    ],\n",
       "       [0.    , 0.    , 0.    , 0.    , 0.    , 0.375 , 0.5   , 0.125 ],\n",
       "       [0.    , 0.    , 0.    , 0.    , 0.    , 0.    , 0.5   , 0.5   ]])"
      ]
     },
     "execution_count": 236,
     "metadata": {},
     "output_type": "execute_result"
    }
   ],
   "source": [
    "P"
   ]
  },
  {
   "cell_type": "code",
   "execution_count": 237,
   "metadata": {},
   "outputs": [
    {
     "data": {
      "text/plain": [
       "(8, 8)"
      ]
     },
     "execution_count": 237,
     "metadata": {},
     "output_type": "execute_result"
    }
   ],
   "source": [
    "P.shape"
   ]
  },
  {
   "cell_type": "code",
   "execution_count": 238,
   "metadata": {},
   "outputs": [],
   "source": [
    "v = np.array([1] + 7*[0])"
   ]
  },
  {
   "cell_type": "code",
   "execution_count": 239,
   "metadata": {},
   "outputs": [
    {
     "data": {
      "text/plain": [
       "array([1, 0, 0, 0, 0, 0, 0, 0])"
      ]
     },
     "execution_count": 239,
     "metadata": {},
     "output_type": "execute_result"
    }
   ],
   "source": [
    "v"
   ]
  },
  {
   "cell_type": "code",
   "execution_count": 240,
   "metadata": {},
   "outputs": [
    {
     "data": {
      "text/plain": [
       "array([0.00393701, 0.03149606, 0.11023622, 0.22047244, 0.27559055,\n",
       "       0.22047244, 0.11023622, 0.02755906])"
      ]
     },
     "execution_count": 240,
     "metadata": {},
     "output_type": "execute_result"
    }
   ],
   "source": [
    "v@np.linalg.matrix_power(P, 10000000)"
   ]
  },
  {
   "cell_type": "code",
   "execution_count": 241,
   "metadata": {},
   "outputs": [
    {
     "data": {
      "text/plain": [
       "array([[0.00393701, 0.03149606, 0.11023622, 0.22047244, 0.27559055,\n",
       "        0.22047244, 0.11023622, 0.02755906],\n",
       "       [0.00393701, 0.03149606, 0.11023622, 0.22047244, 0.27559055,\n",
       "        0.22047244, 0.11023622, 0.02755906],\n",
       "       [0.00393701, 0.03149606, 0.11023622, 0.22047244, 0.27559055,\n",
       "        0.22047244, 0.11023622, 0.02755906],\n",
       "       [0.00393701, 0.03149606, 0.11023622, 0.22047244, 0.27559055,\n",
       "        0.22047244, 0.11023622, 0.02755906],\n",
       "       [0.00393701, 0.03149606, 0.11023622, 0.22047244, 0.27559055,\n",
       "        0.22047244, 0.11023622, 0.02755906],\n",
       "       [0.00393701, 0.03149606, 0.11023622, 0.22047244, 0.27559055,\n",
       "        0.22047244, 0.11023622, 0.02755906],\n",
       "       [0.00393701, 0.03149606, 0.11023622, 0.22047244, 0.27559055,\n",
       "        0.22047244, 0.11023622, 0.02755906],\n",
       "       [0.00393701, 0.03149606, 0.11023622, 0.22047244, 0.27559055,\n",
       "        0.22047244, 0.11023622, 0.02755906]])"
      ]
     },
     "execution_count": 241,
     "metadata": {},
     "output_type": "execute_result"
    }
   ],
   "source": [
    "np.linalg.matrix_power(P, 10000000)"
   ]
  },
  {
   "cell_type": "code",
   "execution_count": 218,
   "metadata": {},
   "outputs": [],
   "source": [
    "P_ = P\n",
    "sums = [P[-1,-1]]\n",
    "for _ in range(10000000):\n",
    "    P_ = P_@P\n",
    "    sums.append(sums[-1] + P_[-1,-1])"
   ]
  },
  {
   "cell_type": "code",
   "execution_count": 219,
   "metadata": {},
   "outputs": [
    {
     "data": {
      "text/plain": [
       "[<matplotlib.lines.Line2D at 0x7f1678427ac8>]"
      ]
     },
     "execution_count": 219,
     "metadata": {},
     "output_type": "execute_result"
    },
    {
     "data": {
      "image/png": "[encoded data removed]",
      "text/plain": [
       "<Figure size 432x288 with 1 Axes>"
      ]
     },
     "metadata": {
      "needs_background": "light"
     },
     "output_type": "display_data"
    }
   ],
   "source": [
    "plt.plot(sums)"
   ]
  },
  {
   "cell_type": "code",
   "execution_count": 242,
   "metadata": {},
   "outputs": [],
   "source": [
    "w, v = np.linalg.eig(P.T)"
   ]
  },
  {
   "cell_type": "code",
   "execution_count": 243,
   "metadata": {},
   "outputs": [
    {
     "data": {
      "text/plain": [
       "array([-5.55111512e-17,  1.29843508e-01,  2.71288646e-01,  4.22619202e-01,\n",
       "        1.00000000e+00,  5.77380798e-01,  8.70156492e-01,  7.28711354e-01])"
      ]
     },
     "execution_count": 243,
     "metadata": {},
     "output_type": "execute_result"
    }
   ],
   "source": [
    "w"
   ]
  },
  {
   "cell_type": "code",
   "execution_count": 244,
   "metadata": {},
   "outputs": [
    {
     "data": {
      "text/plain": [
       "array([0.00393701, 0.03149606, 0.11023622, 0.22047244, 0.27559055,\n",
       "       0.22047244, 0.11023622, 0.02755906])"
      ]
     },
     "execution_count": 244,
     "metadata": {},
     "output_type": "execute_result"
    }
   ],
   "source": [
    "v[:, 4]/sum(v[:, 4])"
   ]
  },
  {
   "cell_type": "code",
   "execution_count": 181,
   "metadata": {},
   "outputs": [],
   "source": [
    "P = np.array([[0,0,1,0,0],\n",
    "              [1/2, 0, 1/2, 0, 0],\n",
    "              [1,0,0,0,0],\n",
    "              [0,0,0,1/2,1/2],\n",
    "              [0,0,0,0,1]])"
   ]
  },
  {
   "cell_type": "code",
   "execution_count": 185,
   "metadata": {},
   "outputs": [
    {
     "data": {
      "text/plain": [
       "array([[1. , 0. , 0. , 0. , 0. ],\n",
       "       [0.5, 0. , 0.5, 0. , 0. ],\n",
       "       [0. , 0. , 1. , 0. , 0. ],\n",
       "       [0. , 0. , 0. , 0. , 1. ],\n",
       "       [0. , 0. , 0. , 0. , 1. ]])"
      ]
     },
     "execution_count": 185,
     "metadata": {},
     "output_type": "execute_result"
    }
   ],
   "source": [
    "np.linalg.matrix_power(P, 10000000)"
   ]
  },
  {
   "cell_type": "code",
   "execution_count": 250,
   "metadata": {},
   "outputs": [],
   "source": [
    "P = []\n",
    "P.append([1-p, p, 0, 0, 0, 0, 0, 0, 0])\n",
    "for i in range(1, 8):\n",
    "    row = []\n",
    "    for j in range(i-1):\n",
    "        row += [0]\n",
    "    row.append(i/8 * (1-p))\n",
    "    row.append((8-i)/8 + p*(2*i-8)/8)\n",
    "    row.append((8-i)/8*p)\n",
    "    for j in range(i+2, 9):\n",
    "        row += [0]\n",
    "    P.append(row)\n",
    "P.append([0,0,0,0,0,0, 0,1-p, p])"
   ]
  },
  {
   "cell_type": "code",
   "execution_count": 252,
   "metadata": {},
   "outputs": [],
   "source": [
    "P = np.array(P)"
   ]
  },
  {
   "cell_type": "code",
   "execution_count": 253,
   "metadata": {},
   "outputs": [
    {
     "data": {
      "text/plain": [
       "(9, 9)"
      ]
     },
     "execution_count": 253,
     "metadata": {},
     "output_type": "execute_result"
    }
   ],
   "source": [
    "P.shape"
   ]
  },
  {
   "cell_type": "code",
   "execution_count": 254,
   "metadata": {},
   "outputs": [],
   "source": [
    "v = np.array([1] + 7*[0])"
   ]
  },
  {
   "cell_type": "code",
   "execution_count": 255,
   "metadata": {},
   "outputs": [
    {
     "data": {
      "text/plain": [
       "array([[0.00390625, 0.03125   , 0.109375  , 0.21875   , 0.2734375 ,\n",
       "        0.21875   , 0.109375  , 0.03125   , 0.00390625],\n",
       "       [0.00390625, 0.03125   , 0.109375  , 0.21875   , 0.2734375 ,\n",
       "        0.21875   , 0.109375  , 0.03125   , 0.00390625],\n",
       "       [0.00390625, 0.03125   , 0.109375  , 0.21875   , 0.2734375 ,\n",
       "        0.21875   , 0.109375  , 0.03125   , 0.00390625],\n",
       "       [0.00390625, 0.03125   , 0.109375  , 0.21875   , 0.2734375 ,\n",
       "        0.21875   , 0.109375  , 0.03125   , 0.00390625],\n",
       "       [0.00390625, 0.03125   , 0.109375  , 0.21875   , 0.2734375 ,\n",
       "        0.21875   , 0.109375  , 0.03125   , 0.00390625],\n",
       "       [0.00390625, 0.03125   , 0.109375  , 0.21875   , 0.2734375 ,\n",
       "        0.21875   , 0.109375  , 0.03125   , 0.00390625],\n",
       "       [0.00390625, 0.03125   , 0.109375  , 0.21875   , 0.2734375 ,\n",
       "        0.21875   , 0.109375  , 0.03125   , 0.00390625],\n",
       "       [0.00390625, 0.03125   , 0.109375  , 0.21875   , 0.2734375 ,\n",
       "        0.21875   , 0.109375  , 0.03125   , 0.00390625],\n",
       "       [0.00390625, 0.03125   , 0.109375  , 0.21875   , 0.2734375 ,\n",
       "        0.21875   , 0.109375  , 0.03125   , 0.00390625]])"
      ]
     },
     "execution_count": 255,
     "metadata": {},
     "output_type": "execute_result"
    }
   ],
   "source": [
    "np.linalg.matrix_power(P, 10000000)"
   ]
  },
  {
   "cell_type": "code",
   "execution_count": 256,
   "metadata": {},
   "outputs": [],
   "source": [
    "P = np.array([[2/3, 0/1, 1/6, 0/1, 1/6, 0/1],\n",
    "              [0/1, 2/3, 1/6, 0/1, 1/6, 0/1],\n",
    "              [2/3, 0/1, 1/6, 0/1, 0/1, 1/6],\n",
    "              [2/3, 0/1, 0/1, 1/6, 0/1, 1/6],\n",
    "              [0/1, 2/3, 0/1, 1/6, 1/6, 0/1],\n",
    "              [0/1, 2/3, 0/1, 1/6, 0/1, 1/6]])"
   ]
  },
  {
   "cell_type": "code",
   "execution_count": 258,
   "metadata": {},
   "outputs": [
    {
     "data": {
      "text/plain": [
       "array([[0.33333333, 0.33333333, 0.13333333, 0.03333333, 0.13333333,\n",
       "        0.03333333],\n",
       "       [0.33333333, 0.33333333, 0.13333333, 0.03333333, 0.13333333,\n",
       "        0.03333333],\n",
       "       [0.33333333, 0.33333333, 0.13333333, 0.03333333, 0.13333333,\n",
       "        0.03333333],\n",
       "       [0.33333333, 0.33333333, 0.13333333, 0.03333333, 0.13333333,\n",
       "        0.03333333],\n",
       "       [0.33333333, 0.33333333, 0.13333333, 0.03333333, 0.13333333,\n",
       "        0.03333333],\n",
       "       [0.33333333, 0.33333333, 0.13333333, 0.03333333, 0.13333333,\n",
       "        0.03333333]])"
      ]
     },
     "execution_count": 258,
     "metadata": {},
     "output_type": "execute_result"
    }
   ],
   "source": [
    "np.linalg.matrix_power(P, 10000)"
   ]
  },
  {
   "cell_type": "code",
   "execution_count": 260,
   "metadata": {},
   "outputs": [],
   "source": [
    "v = np.array([0]*5 + [1])"
   ]
  },
  {
   "cell_type": "code",
   "execution_count": 265,
   "metadata": {},
   "outputs": [
    {
     "data": {
      "text/plain": [
       "array([0.18518519, 0.48148148, 0.12962963, 0.03703704, 0.12962963,\n",
       "       0.03703704])"
      ]
     },
     "execution_count": 265,
     "metadata": {},
     "output_type": "execute_result"
    }
   ],
   "source": [
    "v@np.linalg.matrix_power(P, 3)"
   ]
  },
  {
   "cell_type": "code",
   "execution_count": 267,
   "metadata": {},
   "outputs": [
    {
     "name": "stdout",
     "output_type": "stream",
     "text": [
      "0 - 0\n",
      "1 - 0.0333333333333333\n",
      "2 - 0.0666666666666666\n",
      "3 - 0.0999999999999999\n",
      "4 - 0.1333333333333332\n",
      "5 - 0.1666666666666665\n",
      "6 - 0.1999999999999998\n",
      "7 - 0.2333333333333331\n",
      "8 - 0.2666666666666664\n",
      "9 - 0.2999999999999997\n",
      "10 - 0.333333333333333\n",
      "11 - 0.36666666666666625\n",
      "12 - 0.3999999999999996\n",
      "13 - 0.4333333333333329\n",
      "14 - 0.46666666666666623\n",
      "15 - 0.49999999999999956\n",
      "16 - 0.5333333333333329\n",
      "17 - 0.5666666666666662\n",
      "18 - 0.5999999999999995\n",
      "19 - 0.6333333333333329\n",
      "20 - 0.6666666666666662\n",
      "21 - 0.6999999999999995\n",
      "22 - 0.7333333333333328\n",
      "23 - 0.7666666666666662\n",
      "24 - 0.7999999999999995\n",
      "25 - 0.8333333333333328\n",
      "26 - 0.8666666666666661\n",
      "27 - 0.8999999999999995\n",
      "28 - 0.9333333333333328\n",
      "29 - 0.9666666666666661\n",
      "30 - 0.9999999999999994\n"
     ]
    }
   ],
   "source": [
    "sums = []\n",
    "sums.append(0)\n",
    "for _ in range(30):\n",
    "    v = v@P\n",
    "    sums.append(sums[-1] + v[-1])\n",
    "for i, x in enumerate(sums):\n",
    "    print(f\"{i} - {x}\")"
   ]
  },
  {
   "cell_type": "code",
   "execution_count": 268,
   "metadata": {},
   "outputs": [],
   "source": [
    "w, v = np.linalg.eig(P.T)"
   ]
  },
  {
   "cell_type": "code",
   "execution_count": 269,
   "metadata": {},
   "outputs": [
    {
     "data": {
      "text/plain": [
       "array([1.00000000e+00+0.00000000e+00j, 6.66666667e-01+0.00000000e+00j,\n",
       "       1.66666667e-01+0.00000000e+00j, 2.13608883e-17+3.22568097e-17j,\n",
       "       2.13608883e-17-3.22568097e-17j, 1.66666667e-01+0.00000000e+00j])"
      ]
     },
     "execution_count": 269,
     "metadata": {},
     "output_type": "execute_result"
    }
   ],
   "source": [
    "w"
   ]
  },
  {
   "cell_type": "code",
   "execution_count": 271,
   "metadata": {},
   "outputs": [
    {
     "data": {
      "text/plain": [
       "array([0.33333333+0.j, 0.33333333+0.j, 0.13333333+0.j, 0.03333333+0.j,\n",
       "       0.13333333+0.j, 0.03333333+0.j])"
      ]
     },
     "execution_count": 271,
     "metadata": {},
     "output_type": "execute_result"
    }
   ],
   "source": [
    "v[:, 0]/sum(v[:, 0])"
   ]
  },
  {
   "cell_type": "code",
   "execution_count": 294,
   "metadata": {},
   "outputs": [],
   "source": [
    "P = np.array([[0.5, 0.5, 0],\n",
    "              [0.0, 0.5, 0.5],\n",
    "              [1,0,0]])"
   ]
  },
  {
   "cell_type": "code",
   "execution_count": 295,
   "metadata": {},
   "outputs": [
    {
     "data": {
      "text/plain": [
       "array([[0.25, 0.5 , 0.25],\n",
       "       [0.5 , 0.25, 0.25],\n",
       "       [0.5 , 0.5 , 0.  ]])"
      ]
     },
     "execution_count": 295,
     "metadata": {},
     "output_type": "execute_result"
    }
   ],
   "source": [
    "np.linalg.matrix_power(P, 2)"
   ]
  },
  {
   "cell_type": "code",
   "execution_count": 274,
   "metadata": {},
   "outputs": [],
   "source": [
    "w, v = np.linalg.eig(P.T)"
   ]
  },
  {
   "cell_type": "code",
   "execution_count": 275,
   "metadata": {},
   "outputs": [
    {
     "data": {
      "text/plain": [
       "array([1.00000000e+00+0.j , 1.73472348e-16+0.5j, 1.73472348e-16-0.5j])"
      ]
     },
     "execution_count": 275,
     "metadata": {},
     "output_type": "execute_result"
    }
   ],
   "source": [
    "w"
   ]
  },
  {
   "cell_type": "code",
   "execution_count": 276,
   "metadata": {},
   "outputs": [
    {
     "data": {
      "text/plain": [
       "array([[-0.66666667+0.j        ,  0.70710678+0.j        ,\n",
       "         0.70710678-0.j        ],\n",
       "       [-0.66666667+0.j        , -0.35355339-0.35355339j,\n",
       "        -0.35355339+0.35355339j],\n",
       "       [-0.33333333+0.j        , -0.35355339+0.35355339j,\n",
       "        -0.35355339-0.35355339j]])"
      ]
     },
     "execution_count": 276,
     "metadata": {},
     "output_type": "execute_result"
    }
   ],
   "source": [
    "v"
   ]
  },
  {
   "cell_type": "code",
   "execution_count": 277,
   "metadata": {},
   "outputs": [
    {
     "data": {
      "text/plain": [
       "array([0.4-0.j, 0.4-0.j, 0.2-0.j])"
      ]
     },
     "execution_count": 277,
     "metadata": {},
     "output_type": "execute_result"
    }
   ],
   "source": [
    "v[:, 0] / sum(v[:, 0])"
   ]
  },
  {
   "cell_type": "code",
   "execution_count": 285,
   "metadata": {},
   "outputs": [],
   "source": [
    "P_= np.array([[0.0, 0.5, 0.5],\n",
    "              [1/4, 0.5, 1/4],\n",
    "              [3/4, 1/4 ,0.0]])"
   ]
  },
  {
   "cell_type": "code",
   "execution_count": 286,
   "metadata": {},
   "outputs": [],
   "source": [
    "w, v = np.linalg.eig(P_.T)"
   ]
  },
  {
   "cell_type": "code",
   "execution_count": 287,
   "metadata": {},
   "outputs": [
    {
     "data": {
      "text/plain": [
       "array([ 1.        , -0.60355339,  0.10355339])"
      ]
     },
     "execution_count": 287,
     "metadata": {},
     "output_type": "execute_result"
    }
   ],
   "source": [
    "w"
   ]
  },
  {
   "cell_type": "code",
   "execution_count": 288,
   "metadata": {},
   "outputs": [
    {
     "data": {
      "text/plain": [
       "array([[-0.51465024, -0.79410449,  0.47596315],\n",
       "       [-0.73521462,  0.23258782, -0.81251992],\n",
       "       [-0.44112877,  0.56151667,  0.33655677]])"
      ]
     },
     "execution_count": 288,
     "metadata": {},
     "output_type": "execute_result"
    }
   ],
   "source": [
    "v"
   ]
  },
  {
   "cell_type": "code",
   "execution_count": 289,
   "metadata": {},
   "outputs": [
    {
     "data": {
      "text/plain": [
       "array([0.30434783, 0.43478261, 0.26086957])"
      ]
     },
     "execution_count": 289,
     "metadata": {},
     "output_type": "execute_result"
    }
   ],
   "source": [
    "v[:, 0] / sum(v[:, 0])"
   ]
  },
  {
   "cell_type": "code",
   "execution_count": 290,
   "metadata": {},
   "outputs": [
    {
     "data": {
      "text/plain": [
       "3.2857142434693882"
      ]
     },
     "execution_count": 290,
     "metadata": {},
     "output_type": "execute_result"
    }
   ],
   "source": [
    "1/0.30434783*"
   ]
  },
  {
   "cell_type": "code",
   "execution_count": 291,
   "metadata": {},
   "outputs": [
    {
     "data": {
      "text/plain": [
       "array([[0.30434783, 0.43478261, 0.26086957],\n",
       "       [0.30434783, 0.43478261, 0.26086957],\n",
       "       [0.30434783, 0.43478261, 0.26086957]])"
      ]
     },
     "execution_count": 291,
     "metadata": {},
     "output_type": "execute_result"
    }
   ],
   "source": [
    "np.linalg.matrix_power(P_, 10000)"
   ]
  },
  {
   "cell_type": "code",
   "execution_count": null,
   "metadata": {},
   "outputs": [],
   "source": []
  }
 ],
 "metadata": {
  "kernelspec": {
   "display_name": "Python 3",
   "language": "python",
   "name": "python3"
  },
  "language_info": {
   "codemirror_mode": {
    "name": "ipython",
    "version": 3
   },
   "file_extension": ".py",
   "mimetype": "text/x-python",
   "name": "python",
   "nbconvert_exporter": "python",
   "pygments_lexer": "ipython3",
   "version": "3.6.9"
  }
 },
 "nbformat": 4,
 "nbformat_minor": 4
}
