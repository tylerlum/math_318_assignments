{
 "cells": [
  {
   "cell_type": "code",
   "execution_count": 12,
   "metadata": {},
   "outputs": [],
   "source": [
    "import numpy as np\n",
    "\n",
    "def state_transition(x):\n",
    "    if x == 1:\n",
    "        return np.random.choice([1,2,3], p=[1/2, 1/3, 1/6])\n",
    "    if x == 2:\n",
    "        return np.random.choice([1,2,3], p=[0, 1/3, 2/3])\n",
    "    if x == 3:\n",
    "        return np.random.choice([1,2,3], p=[1/2, 0, 1/2])\n",
    "    raise ValueError(f\"Invalid x = {x}\")\n",
    "\n",
    "def run_simulations(x_0, N_transitions, N):\n",
    "    x_N_list = []\n",
    "    for i in range(N):\n",
    "        x = x_0\n",
    "        for _ in range(N_transitions):\n",
    "            x = state_transition(x)\n",
    "        x_N_list.append(x)\n",
    "    return x_N_list\n",
    "\n",
    "def to_freq_map(elements):\n",
    "    ret_val = {}\n",
    "    for e in elements:\n",
    "        if e in ret_val:\n",
    "            ret_val[e] += 1\n",
    "        else:\n",
    "            ret_val[e] = 1\n",
    "    return ret_val"
   ]
  },
  {
   "cell_type": "code",
   "execution_count": 18,
   "metadata": {},
   "outputs": [
    {
     "name": "stdout",
     "output_type": "stream",
     "text": [
      "P(X3 = 3|X0 = 1) = 0.43574\n",
      "P(X3 = 3|X0 = 2) = 0.40732\n"
     ]
    }
   ],
   "source": [
    "N = 100000\n",
    "x_3_given_x_0_equal_1 = run_simulations(x_0=1, N_transitions=3, N=N)\n",
    "x_3_given_x_0_equal_2 = run_simulations(x_0=2, N_transitions=3, N=N)\n",
    "    \n",
    "x_3_given_x_0_equal_1_freq = to_freq_map(x_3_given_x_0_equal_1)\n",
    "x_3_given_x_0_equal_2_freq = to_freq_map(x_3_given_x_0_equal_2)\n",
    "print(f\"P(X3 = 3|X0 = 1) = {x_3_given_x_0_equal_1_freq[3]/N}\")\n",
    "print(f\"P(X3 = 3|X0 = 2) = {x_3_given_x_0_equal_2_freq[3]/N}\")"
   ]
  },
  {
   "cell_type": "code",
   "execution_count": 19,
   "metadata": {},
   "outputs": [
    {
     "data": {
      "text/plain": [
       "0.4212962962962963"
      ]
     },
     "execution_count": 19,
     "metadata": {},
     "output_type": "execute_result"
    }
   ],
   "source": [
    "91/216"
   ]
  },
  {
   "cell_type": "code",
   "execution_count": 21,
   "metadata": {},
   "outputs": [
    {
     "data": {
      "text/plain": [
       "0.42153"
      ]
     },
     "execution_count": 21,
     "metadata": {},
     "output_type": "execute_result"
    }
   ],
   "source": [
    "(0.43574 + 0.40732)/2"
   ]
  },
  {
   "cell_type": "code",
   "execution_count": null,
   "metadata": {},
   "outputs": [],
   "source": []
  }
 ],
 "metadata": {
  "kernelspec": {
   "display_name": "Python 3",
   "language": "python",
   "name": "python3"
  },
  "language_info": {
   "codemirror_mode": {
    "name": "ipython",
    "version": 3
   },
   "file_extension": ".py",
   "mimetype": "text/x-python",
   "name": "python",
   "nbconvert_exporter": "python",
   "pygments_lexer": "ipython3",
   "version": "3.6.9"
  }
 },
 "nbformat": 4,
 "nbformat_minor": 4
}
