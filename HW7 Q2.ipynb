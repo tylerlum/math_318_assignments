{
 "cells": [
  {
   "cell_type": "code",
   "execution_count": 1,
   "metadata": {},
   "outputs": [],
   "source": [
    "import numpy as np"
   ]
  },
  {
   "cell_type": "code",
   "execution_count": 2,
   "metadata": {},
   "outputs": [],
   "source": [
    "# Problem setup\n",
    "X = [x for x in range(9)]\n",
    "possible_y = [y for y in range(11)]"
   ]
  },
  {
   "cell_type": "code",
   "execution_count": 3,
   "metadata": {},
   "outputs": [],
   "source": [
    "# Functions used in my solution\n",
    "def fact(n):\n",
    "    return 1 if n == 0 else n * fact(n - 1)\n",
    "\n",
    "def C(n, k):\n",
    "    return fact(n) / (fact(k) * fact(n - k))\n",
    "    \n",
    "def p_x(x):\n",
    "    return 1 / len(X) if x in X else 0\n",
    "    \n",
    "def p_y_given_x(y, x):\n",
    "    return C(10, y) * (x/8)**y * ((8-x)/8)**(10-y)\n",
    "    \n",
    "def p_y(y):\n",
    "    return sum([p_y_given_x(y, x) * p_x(x) for x in X])\n",
    "\n",
    "def p_x_given_y(x, y):\n",
    "    return p_y_given_x(y, x) * p_x(x) / p_y(y)"
   ]
  },
  {
   "cell_type": "code",
   "execution_count": 4,
   "metadata": {},
   "outputs": [
    {
     "name": "stdout",
     "output_type": "stream",
     "text": [
      "y = 0: E(X|Y=y) = 0.3062574843043593\n",
      "y = 1: E(X|Y=y) = 1.5247296871948057\n",
      "y = 2: E(X|Y=y) = 2.0219014774961104\n",
      "y = 3: E(X|Y=y) = 2.66163534972375\n",
      "y = 4: E(X|Y=y) = 3.3324449979512365\n",
      "y = 5: E(X|Y=y) = 4.0\n",
      "y = 6: E(X|Y=y) = 4.667555002048764\n",
      "y = 7: E(X|Y=y) = 5.338364650276251\n",
      "y = 8: E(X|Y=y) = 5.97809852250389\n",
      "y = 9: E(X|Y=y) = 6.475270312805193\n",
      "y = 10: E(X|Y=y) = 7.69374251569564\n"
     ]
    }
   ],
   "source": [
    "# Calculate with my answer\n",
    "for y in possible_y:\n",
    "    E_X_given_Y_mine = sum([x*p_x_given_y(x, y) for x in X])\n",
    "    print(f\"y = {y}: E(X|Y=y) = {E_X_given_Y_mine}\")"
   ]
  },
  {
   "cell_type": "code",
   "execution_count": 5,
   "metadata": {},
   "outputs": [
    {
     "name": "stdout",
     "output_type": "stream",
     "text": [
      "y = 0: E(X|Y=y) = 0.3091585435390589\n",
      "y = 1: E(X|Y=y) = 1.5214654592792871\n",
      "y = 2: E(X|Y=y) = 2.0231330210831024\n",
      "y = 3: E(X|Y=y) = 2.662739431662406\n",
      "y = 4: E(X|Y=y) = 3.324485995140542\n",
      "y = 5: E(X|Y=y) = 3.9973471512867556\n",
      "y = 6: E(X|Y=y) = 4.671052631578948\n",
      "y = 7: E(X|Y=y) = 5.334086142926278\n",
      "y = 8: E(X|Y=y) = 5.9753258036490005\n",
      "y = 9: E(X|Y=y) = 6.478150020768581\n",
      "y = 10: E(X|Y=y) = 7.694465514438966\n"
     ]
    }
   ],
   "source": [
    "# Run simulations\n",
    "N_simulations = 1000000\n",
    "simulations = []\n",
    "\n",
    "for _ in range(N_simulations):\n",
    "    x = np.random.choice(X)\n",
    "    y = np.random.binomial(10, x/8)\n",
    "    simulations.append((x, y))\n",
    "    \n",
    "for y in possible_y:\n",
    "    simulations_with_y = [xy[0] for xy in simulations if xy[1] == y]\n",
    "    E_X_given_Y = sum(simulations_with_y) / len(simulations_with_y)\n",
    "    print(f\"y = {y}: E(X|Y=y) = {E_X_given_Y}\")"
   ]
  },
  {
   "cell_type": "code",
   "execution_count": 6,
   "metadata": {},
   "outputs": [
    {
     "name": "stdout",
     "output_type": "stream",
     "text": [
      "y = 0: E(X|Y=y) = 0.40717439353466034\n",
      "y = 1: E(X|Y=y) = 0.9587721526622772\n",
      "y = 2: E(X|Y=y) = 1.4592336863279343\n",
      "y = 3: E(X|Y=y) = 1.9401437044143677\n",
      "y = 4: E(X|Y=y) = 2.424071878194809\n",
      "y = 5: E(X|Y=y) = 2.9088862538337708\n",
      "y = 6: E(X|Y=y) = 3.3952514827251434\n",
      "y = 7: E(X|Y=y) = 3.8912898302078247\n",
      "y = 8: E(X|Y=y) = 4.3144746869802475\n",
      "y = 9: E(X|Y=y) = 4.071743935346603\n",
      "y = 10: E(X|Y=y) = 10.228957995772362\n"
     ]
    }
   ],
   "source": [
    "# Calculate with answer key\n",
    "for y in possible_y:\n",
    "    E_X_given_Y_answer_key = sum([x * C(10,y) * (x/8)**y * ((8-x)/8)**(10-y) for x in X])\n",
    "    print(f\"y = {y}: E(X|Y=y) = {E_X_given_Y_answer_key}\")"
   ]
  }
 ],
 "metadata": {
  "kernelspec": {
   "display_name": "Python 3",
   "language": "python",
   "name": "python3"
  },
  "language_info": {
   "codemirror_mode": {
    "name": "ipython",
    "version": 3
   },
   "file_extension": ".py",
   "mimetype": "text/x-python",
   "name": "python",
   "nbconvert_exporter": "python",
   "pygments_lexer": "ipython3",
   "version": "3.6.9"
  }
 },
 "nbformat": 4,
 "nbformat_minor": 4
}
